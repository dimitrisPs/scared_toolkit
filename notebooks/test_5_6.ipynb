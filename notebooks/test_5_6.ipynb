{
 "metadata": {
  "language_info": {
   "codemirror_mode": {
    "name": "ipython",
    "version": 3
   },
   "file_extension": ".py",
   "mimetype": "text/x-python",
   "name": "python",
   "nbconvert_exporter": "python",
   "pygments_lexer": "ipython3",
   "version": "3.8.3-final"
  },
  "orig_nbformat": 2,
  "kernelspec": {
   "name": "python_defaultSpec_1599059340053",
   "display_name": "Python 3.8.3 64-bit ('scareddata': conda)"
  }
 },
 "nbformat": 4,
 "nbformat_minor": 2,
 "cells": [
  {
   "cell_type": "code",
   "execution_count": 6,
   "metadata": {},
   "outputs": [],
   "source": [
    "from sys import path; path.append('..')\n",
    "import numpy as np\n",
    "import cv2\n",
    "from scareddataset import iotools as sio\n",
    "from scareddataset import data_maniputlation as dm\n",
    "from scareddataset.calibrator import StereoCalibrator\n"
   ]
  },
  {
   "cell_type": "code",
   "execution_count": 7,
   "metadata": {},
   "outputs": [],
   "source": [
    "left_xyz = sio.load_depthmap_xyz('/home/dimitrisps/Datasets/Scared_stereo/scared/dataset5/keyframe1/left_depth_map.tiff')\n",
    "right_xyz = sio.load_depthmap_xyz('/home/dimitrisps/Datasets/Scared_stereo/scared/dataset5/keyframe1/right_depth_map.tiff')"
   ]
  },
  {
   "cell_type": "code",
   "execution_count": 10,
   "metadata": {},
   "outputs": [],
   "source": [
    "left = cv2.imread('/home/dimitrisps/Datasets/Scared_stereo/scared/dataset5/keyframe1/Left_Image.png')\n",
    "right = cv2.imread('/home/dimitrisps/Datasets/Scared_stereo/scared/dataset5/keyframe1/Right_Image.png')"
   ]
  },
  {
   "cell_type": "code",
   "execution_count": 11,
   "metadata": {
    "tags": []
   },
   "outputs": [
    {
     "output_type": "stream",
     "name": "stdout",
     "text": "{'error': None, 'image_size': None, 'K1': array([[1.0736484e+03, 0.0000000e+00, 5.7749969e+02],\n       [0.0000000e+00, 1.0734343e+03, 5.2440979e+02],\n       [0.0000000e+00, 0.0000000e+00, 1.0000000e+00]], dtype=float32), 'D1': array([[-0.00074753,  0.00177791,  0.00013957,  0.        ,  0.        ]],\n      dtype=float32), 'K2': array([[1.0726687e+03, 0.0000000e+00, 6.7699469e+02],\n       [0.0000000e+00, 1.0724434e+03, 5.2389667e+02],\n       [0.0000000e+00, 0.0000000e+00, 1.0000000e+00]], dtype=float32), 'D2': array([[-0.00131973,  0.00340759,  0.00010638,  0.        ,  0.        ]],\n      dtype=float32), 'R': array([[ 9.99999344e-01,  9.92073183e-06, -1.13043236e-03],\n       [-9.90405715e-06,  1.00000000e+00,  1.47561313e-05],\n       [ 1.13043259e-03, -1.47449255e-05,  9.99999344e-01]], dtype=float32), 'T': array([[-4.3633776 ,  0.02114437, -0.04787407]], dtype=float32), 'E': None, 'F': None, 'R1': None, 'R2': None, 'P1': None, 'P2': None, 'Q': None, 'roi1': None, 'roi2': None}\n"
    }
   ],
   "source": [
    "calib = StereoCalibrator().load('/home/dimitrisps/Datasets/Scared_stereo/scared/dataset5/keyframe1/endoscope_calibration.yaml')\n",
    "print(calib)"
   ]
  },
  {
   "cell_type": "code",
   "execution_count": 18,
   "metadata": {},
   "outputs": [
    {
     "output_type": "execute_result",
     "data": {
      "text/plain": "array([[-0.00074753,  0.00177791,  0.00013957,  0.        ,  0.        ]],\n      dtype=float32)"
     },
     "metadata": {},
     "execution_count": 18
    }
   ],
   "source": [
    "left_xyz.shape\n",
    "calib['K1']\n",
    "calib['D1']"
   ]
  },
  {
   "cell_type": "code",
   "execution_count": 24,
   "metadata": {},
   "outputs": [
    {
     "output_type": "execute_result",
     "data": {
      "text/plain": "True"
     },
     "metadata": {},
     "execution_count": 24
    }
   ],
   "source": [
    "sio.save_subpix_png('./left_depthmap_51.png',dm.pts3d_to_depthmap(left_xyz.reshape(-1,3), calib['K1'], calib['D1'], (1024,1280))[0])\n",
    "sio.save_subpix_png('./right_depthmap_51.png',dm.pts3d_to_depthmap(right_xyz.reshape(-1,3), calib['K2'], calib['D2'], (1024,1280))[0])\n",
    "cv2.imwrite('./left_51.png', left)\n",
    "cv2.imwrite('./right_51.png', right)"
   ]
  },
  {
   "cell_type": "code",
   "execution_count": null,
   "metadata": {},
   "outputs": [],
   "source": []
  }
 ]
}