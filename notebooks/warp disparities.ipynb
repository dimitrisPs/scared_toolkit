{
 "metadata": {
  "language_info": {
   "codemirror_mode": {
    "name": "ipython",
    "version": 3
   },
   "file_extension": ".py",
   "mimetype": "text/x-python",
   "name": "python",
   "nbconvert_exporter": "python",
   "pygments_lexer": "ipython3",
   "version": 3
  },
  "orig_nbformat": 2,
  "kernelspec": {
   "name": "python_defaultSpec_1595696201582",
   "display_name": "Python 3.8.3 64-bit ('scareddata': conda)"
  }
 },
 "nbformat": 4,
 "nbformat_minor": 2,
 "cells": [
  {
   "cell_type": "code",
   "execution_count": 22,
   "metadata": {},
   "outputs": [],
   "source": [
    "import cv2\n",
    "import numpy as np\n",
    "from pathlib import Path\n",
    "import sys; sys.path.append('..')\n",
    "from scareddataset import iotools"
   ]
  },
  {
   "cell_type": "code",
   "execution_count": 23,
   "metadata": {},
   "outputs": [],
   "source": [
    "root_path = Path('/home/dimitrisps/new_data')\n",
    "warped_rect_right = root_path/'warped_right'\n",
    "warped_rect_right.mkdir(parents=True, exist_ok=True)\n"
   ]
  },
  {
   "cell_type": "code",
   "execution_count": 24,
   "metadata": {},
   "outputs": [],
   "source": [
    "disparity_paths = sorted([str(path) for path in (root_path / 'disparity_sparse').iterdir()])\n",
    "rect_left_paths = sorted([str(path) for path in (root_path / 'rect_left').iterdir()])\n",
    "rect_right_paths = sorted([str(path) for path in (root_path / 'rect_right').iterdir()])"
   ]
  },
  {
   "cell_type": "code",
   "execution_count": 25,
   "metadata": {
    "tags": []
   },
   "outputs": [],
   "source": [
    "for rect_left_p, rect_right_p, disp_p in zip(rect_left_paths,rect_right_paths,disparity_paths):\n",
    "\n",
    "    left = cv2.imread(rect_left_p)\n",
    "    disparity = iotools.load_subpix_png(disp_p)[0].astype(np.int)\n",
    "\n",
    "    left_out = warp_left_to_right(left, disparity)\n",
    "    cv2.imwrite(str(warped_rect_left/(Path(rect_left_p).name)), left_out)\n"
   ]
  },
  {
   "cell_type": "code",
   "execution_count": 20,
   "metadata": {},
   "outputs": [],
   "source": [
    "def warp_left_to_right(left_in, disparity):\n",
    "    right_out = np.zeros_like(left_in)\n",
    "    h,w,c = left_in.shape\n",
    "    for row in range(h):\n",
    "        for col in range(w):\n",
    "            disp = disparity[row,col]\n",
    "            if (disp==0) or (col-disp<0):\n",
    "                continue\n",
    "            right_out[row, col-disp] = left_in[row, col]\n",
    "    return right_out\n"
   ]
  },
  {
   "cell_type": "code",
   "execution_count": null,
   "metadata": {},
   "outputs": [],
   "source": []
  }
 ]
}