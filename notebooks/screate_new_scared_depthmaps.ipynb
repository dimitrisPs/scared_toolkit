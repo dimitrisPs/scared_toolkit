{
 "metadata": {
  "language_info": {
   "codemirror_mode": {
    "name": "ipython",
    "version": 3
   },
   "file_extension": ".py",
   "mimetype": "text/x-python",
   "name": "python",
   "nbconvert_exporter": "python",
   "pygments_lexer": "ipython3",
   "version": 3
  },
  "orig_nbformat": 2,
  "kernelspec": {
   "name": "python_defaultSpec_1595579794498",
   "display_name": "Python 3.8.3 64-bit ('scareddata': conda)"
  }
 },
 "nbformat": 4,
 "nbformat_minor": 2,
 "cells": [
  {
   "cell_type": "code",
   "execution_count": 1,
   "metadata": {},
   "outputs": [],
   "source": [
    "import sys; sys.path.append('..')\n",
    "import cv2\n",
    "import numpy as np\n",
    "from scareddataset import iotools\n",
    "from pathlib import Path\n",
    "import scareddataset.data_maniputlation as dm\n",
    "from scareddataset.calibrator import StereoCalibrator\n",
    "from scareddataset import evaluation"
   ]
  },
  {
   "cell_type": "code",
   "execution_count": 2,
   "metadata": {},
   "outputs": [],
   "source": [
    "scared_data_root_path = Path('/home/dimitrisps/new_data')\n",
    "clean_scared_depthmap = scared_data_root_path / 'clean_left_depthmap'\n",
    "clean_scared_depthmap_png = scared_data_root_path / 'clean_left_depthmap_png'\n",
    "scared_depthmap_png = scared_data_root_path / 'depthmap_png'\n",
    "scared_depthmap_recycled = scared_data_root_path / 'recycled_left_depthmap'\n",
    "clean_scared_depthmap.mkdir(parents=True, exist_ok=True)\n",
    "clean_scared_depthmap_png.mkdir(parents=True, exist_ok=True)\n",
    "scared_depthmap_png.mkdir(parents=True, exist_ok=True)\n",
    "scared_depthmap_recycled.mkdir(parents=True, exist_ok=True)"
   ]
  },
  {
   "cell_type": "code",
   "execution_count": 13,
   "metadata": {},
   "outputs": [],
   "source": [
    "for clean_pc in (scared_data_root_path/ 'point_cloud_clean').iterdir():\n",
    "    calib =StereoCalibrator().load(str(scared_data_root_path/ ('original_calib/' +clean_pc.stem+'.yaml')))\n",
    "    pts3d = iotools.load_ply(str(clean_pc))\n",
    "    depthmap, scared_depthmap = dm.pts3d_to_depthmap(pts3d, calib['K1'], calib['D1'], (1024,1280))\n",
    "    iotools.save_subpix_png(clean_scared_depthmap_png/ (clean_pc.stem + '.png'), depthmap)\n",
    "    iotools.save_depthmap_xyz(clean_scared_depthmap/ (clean_pc.stem + '.tiff'), scared_depthmap)\n",
    "\n"
   ]
  },
  {
   "cell_type": "code",
   "execution_count": 22,
   "metadata": {
    "tags": []
   },
   "outputs": [],
   "source": [
    "for gt in (scared_data_root_path/ 'left_depthmap').iterdir():\n",
    "    calib =StereoCalibrator().load(str(scared_data_root_path/ ('original_calib/' +gt.stem+'.yaml')))\n",
    "    pts3d = iotools.load_depthmap_xyz(gt).reshape(-1,3)\n",
    "    depthmap, scared_depthmap = dm.pts3d_to_depthmap(pts3d, calib['K1'], calib['D1'], (1024,1280))\n",
    "    iotools.save_subpix_png(scared_depthmap_png/ (gt.stem + '.png'), depthmap)\n",
    "    iotools.save_depthmap_xyz(scared_depthmap_recycled/ (gt.stem + '.tiff'), scared_depthmap)\n",
    "\n"
   ]
  },
  {
   "cell_type": "markdown",
   "metadata": {},
   "source": [
    "evaluate error between cleaned and original tiff depthmaps"
   ]
  },
  {
   "cell_type": "code",
   "execution_count": 8,
   "metadata": {},
   "outputs": [],
   "source": []
  },
  {
   "cell_type": "code",
   "execution_count": 12,
   "metadata": {
    "tags": []
   },
   "outputs": [
    {
     "output_type": "stream",
     "name": "stdout",
     "text": "1_1 (0.21326745, 0.7837417602539063, 0.55032958984375)\n1_2 (0.2638105, 0.8304611206054687, 0.6294532775878906)\n1_3 (0.2403629, 0.8681564331054688, 0.6576278686523438)\n1_4 (0.086446725, 0.7297950744628906, 0.5398582458496094)\n1_5 (0.191571, 0.719012451171875, 0.5088981628417969)\n2_1 (0.09012184, 0.6527061462402344, 0.4771446228027344)\n2_2 (0.2541776, 0.8476577758789062, 0.6655830383300781)\n2_3 (0.14974071, 0.5437171936035157, 0.3793525695800781)\n2_4 (0.0486424, 0.6760147094726563, 0.5083091735839844)\n2_5 (0.3175981, 0.7500335693359375, 0.5631744384765625)\n3_1 (0.31712297, 0.7493560791015625, 0.565252685546875)\n3_2 (0.19515355, 0.7737480163574219, 0.5852485656738281)\n3_3 (0.30127287, 0.7049179077148438, 0.49687881469726564)\n3_4 (0.18330462, 0.7672004699707031, 0.5522323608398437)\n3_5 (0.33067468, 0.6624839782714844, 0.47533416748046875)\n4_1 (1.0771314, 0.7245307922363281, 0.5069389343261719)\n4_2 (0.83283114, 0.8215568542480469, 0.6281532287597656)\n4_3 (0.73911184, 0.7850860595703125, 0.5373764038085938)\n4_4 (0.7660473, 0.6976829528808594, 0.4248359680175781)\n4_5 (0.7032718, 0.7460830688476563, 0.5024940490722656)\n5_1 (1.0726533, 0.6613021850585937, 0.4394622802734375)\n5_2 (0.8918545, 0.5514633178710937, 0.3202552795410156)\n5_3 (0.78836715, 0.6475776672363281, 0.437152099609375)\n5_4 (1.4131962, 0.7812690734863281, 0.5386016845703125)\n5_5 (0.47781196, 0.8203140258789062, 0.5384986877441407)\n6_1 (0.54672515, 0.8204132080078125, 0.6881698608398438)\n6_2 (0.331471, 0.8651054382324219, 0.6573127746582031)\n6_3 (0.47504613, 0.8773681640625, 0.7502593994140625)\n6_4 (0.4816124, 0.8457534790039063, 0.7368812561035156)\n6_5 (0.6007032, 0.8845962524414063, 0.7636627197265625)\n7_1 (0.1052712, 0.701025390625, 0.509625244140625)\n7_2 (0.118563995, 0.5927543640136719, 0.4076507568359375)\n7_3 (0.07103813, 0.6033966064453125, 0.41294174194335936)\n7_4 (0.090288445, 0.8055213928222656, 0.5851318359375)\n7_5 (0.09493133, 0.8371864318847656, 0.643536376953125)\n"
    }
   ],
   "source": [
    "original_gt = sorted([str(path) for path in (scared_data_root_path/'left_depthmap').iterdir() ])\n",
    "clean_gt = sorted([str(path) for path in (scared_data_root_path/'clean_left_depthmap').iterdir() ])\n",
    "for original_path, clean_path in zip( original_gt, clean_gt):\n",
    "    fid = Path(original_path).stem\n",
    "    original = iotools.load_depthmap_xyz(original_path)\n",
    "    clean = iotools.load_depthmap_xyz(clean_path)\n",
    "    results = evaluation.xyz_error(original, clean)\n",
    "    print(fid, results)"
   ]
  },
  {
   "cell_type": "code",
   "execution_count": 5,
   "metadata": {
    "tags": []
   },
   "outputs": [
    {
     "output_type": "stream",
     "name": "stdout",
     "text": "1_1 (0.21356557, 0.7837417602539063, 0.550439453125)\n1_2 (0.26393092, 0.8304611206054687, 0.6295219421386719)\n1_3 (0.2494799, 0.8681564331054688, 0.6576461791992188)\n1_4 (0.08675561, 0.7297950744628906, 0.5400390625)\n1_5 (0.19263753, 0.719012451171875, 0.5091445922851563)\n2_1 (0.0924276, 0.6527061462402344, 0.47774581909179686)\n2_2 (0.2590721, 0.8476577758789062, 0.6663787841796875)\n2_3 (0.15170953, 0.5437171936035157, 0.3794769287109375)\n2_4 (0.049141183, 0.6760147094726563, 0.5084434509277344)\n2_5 (0.3184689, 0.7500335693359375, 0.563238525390625)\n3_1 (0.31799233, 0.7493560791015625, 0.5655990600585937)\n3_2 (0.19872664, 0.7737480163574219, 0.5852813720703125)\n3_3 (0.3019838, 0.7049179077148438, 0.49692840576171876)\n3_4 (0.18472253, 0.7672004699707031, 0.5523262023925781)\n3_5 (0.33236018, 0.6624839782714844, 0.47535400390625)\n4_1 (1.1626462, 0.7245307922363281, 0.5071342468261719)\n4_2 (0.8428001, 0.8215568542480469, 0.6282066345214844)\n4_3 (0.7507717, 0.7850860595703125, 0.5378097534179688)\n4_4 (0.7924357, 0.6976829528808594, 0.42504043579101564)\n4_5 (0.70727235, 0.7460830688476563, 0.502569580078125)\n5_1 (1.080846, 0.6613021850585937, 0.4396049499511719)\n5_2 (0.9199845, 0.5514633178710937, 0.3208282470703125)\n5_3 (0.79818135, 0.6475776672363281, 0.4373588562011719)\n5_4 (1.717845, 0.7812690734863281, 0.5387496948242188)\n5_5 (0.48013234, 0.8203140258789062, 0.5386482238769531)\n6_1 (0.5559986, 0.8204132080078125, 0.6882492065429687)\n6_2 (0.3381072, 0.8651054382324219, 0.6574005126953125)\n6_3 (0.51733804, 0.8773681640625, 0.7503318786621094)\n6_4 (0.4826382, 0.8457534790039063, 0.7369140625)\n6_5 (0.60986465, 0.8845962524414063, 0.767236328125)\n7_1 (0.10930528, 0.701025390625, 0.5096771240234375)\n7_2 (0.12144755, 0.5927543640136719, 0.40771636962890623)\n7_3 (0.072731, 0.6033966064453125, 0.4129768371582031)\n7_4 (0.09170306, 0.8055213928222656, 0.5852577209472656)\n7_5 (0.13074854, 0.8371864318847656, 0.6457473754882812)\n"
    }
   ],
   "source": [
    "original_gt = sorted([str(path) for path in (scared_data_root_path/'left_depthmap').iterdir() ])\n",
    "recycled_gt = sorted([str(path) for path in (scared_data_root_path/'recycled_left_depthmap').iterdir() ])\n",
    "\n",
    "for original_path, recycled_path in zip( original_gt, recycled_gt):\n",
    "    fid = Path(original_path).stem\n",
    "    original = iotools.load_depthmap_xyz(original_path)\n",
    "    recycled = iotools.load_depthmap_xyz(recycled_path)\n",
    "    results = evaluation.xyz_error(original, recycled)\n",
    "    print(fid, results)"
   ]
  },
  {
   "cell_type": "code",
   "execution_count": 5,
   "metadata": {},
   "outputs": [],
   "source": [
    "interpolated_clean_depthmaps_dir= Path(scared_data_root_path / 'interpolated_clean_left_depthmap')\n",
    "interpolated_clean_depthmaps_png_dir =Path(scared_data_root_path / 'interpolated_clean_left_depthmap_png')\n",
    "\n",
    "final_depthmaps_dir= Path(scared_data_root_path / 'final_left_depthmap')\n",
    "final_depthmaps_png_dir =Path(scared_data_root_path / 'final_left_depthmap_png')\n",
    "\n",
    "\n",
    "interpolated_clean_depthmaps_dir.mkdir(parents=True, exist_ok=True)\n",
    "interpolated_clean_depthmaps_png_dir.mkdir(parents=True, exist_ok=True)\n",
    "\n",
    "final_depthmaps_dir.mkdir(parents=True, exist_ok=True)\n",
    "final_depthmaps_png_dir.mkdir(parents=True, exist_ok=True)"
   ]
  },
  {
   "cell_type": "code",
   "execution_count": 6,
   "metadata": {},
   "outputs": [],
   "source": [
    "for clean_depthmap_png_path in clean_scared_depthmap_png.iterdir():\n",
    "    calib =StereoCalibrator().load(str(scared_data_root_path/ ('original_calib/' +clean_depthmap_png_path.stem+'.yaml')))\n",
    "    interpolated_depthmap_png = dm.interpolate_missing_1ch(iotools.load_subpix_png(clean_depthmap_png_path)[0])\n",
    "    interpolated_scared_depthmaps = dm.depthmap_to_pts3d(interpolated_depthmap_png, calib['K1'], calib['D1'])\n",
    "    iotools.save_subpix_png(interpolated_clean_depthmaps_png_dir/clean_depthmap_png_path.name, interpolated_depthmap_png)\n",
    "    iotools.save_depthmap_xyz(interpolated_clean_depthmaps_dir/(clean_depthmap_png_path.stem +'.tiff'), interpolated_scared_depthmaps)\n"
   ]
  },
  {
   "cell_type": "code",
   "execution_count": 20,
   "metadata": {},
   "outputs": [],
   "source": [
    "for interpolated_depthmap_png_path in interpolated_clean_depthmaps_png_dir.iterdir():\n",
    "    calib =StereoCalibrator().load(str(scared_data_root_path/ ('original_calib/' +interpolated_depthmap_png_path.stem+'.yaml')))\n",
    "    interpolated_depthmap = iotools.load_subpix_png(interpolated_depthmap_png_path)[0]\n",
    "    smothed_depthmap =  cv2.GaussianBlur(interpolated_depthmap.astype(np.float32), (51,51), 10)\n",
    "    scared_depthmap = dm.depthmap_to_pts3d(smothed_depthmap, calib['K1'], calib['D1'])\n",
    "    iotools.save_depthmap_xyz(final_depthmaps_dir/(interpolated_depthmap_png_path.stem +'.tiff'), scared_depthmap)\n",
    "    iotools.save_subpix_png(final_depthmaps_png_dir/interpolated_depthmap_png_path.name, smothed_depthmap)"
   ]
  },
  {
   "cell_type": "code",
   "execution_count": 22,
   "metadata": {
    "tags": []
   },
   "outputs": [
    {
     "output_type": "stream",
     "name": "stdout",
     "text": "1_1 (0.8031849, 0.7837417602539063, 0.7837417602539063)\n1_2 (0.9638647, 0.8304611206054687, 0.8304611206054687)\n1_3 (0.94294506, 0.8681564331054688, 0.8681549072265625)\n1_4 (0.50951207, 0.7297950744628906, 0.7297950744628906)\n1_5 (0.68778205, 0.719012451171875, 0.719012451171875)\n2_1 (0.5860685, 0.6527061462402344, 0.65247802734375)\n2_2 (0.84406924, 0.8476577758789062, 0.8476287841796875)\n2_3 (0.7235311, 0.5437171936035157, 0.5437171936035157)\n2_4 (0.39645794, 0.6760147094726563, 0.6760147094726563)\n2_5 (1.2630768, 0.7500335693359375, 0.7500335693359375)\n3_1 (1.1858037, 0.7493560791015625, 0.7493560791015625)\n3_2 (0.8942355, 0.7737480163574219, 0.7737480163574219)\n3_3 (1.1070095, 0.7049179077148438, 0.7049179077148438)\n3_4 (0.9188016, 0.7672004699707031, 0.7672004699707031)\n3_5 (1.0359567, 0.6624839782714844, 0.6624839782714844)\n4_1 (1.9511042, 0.7245307922363281, 0.7245307922363281)\n4_2 (2.0921278, 0.8215568542480469, 0.8215568542480469)\n4_3 (1.5883245, 0.7850860595703125, 0.7850860595703125)\n4_4 (1.2316386, 0.6976829528808594, 0.6976692199707031)\n4_5 (1.7165082, 0.7460830688476563, 0.7460830688476563)\n5_1 (2.4967577, 0.6613021850585937, 0.6613021850585937)\n5_2 (1.662907, 0.5514633178710937, 0.5514633178710937)\n5_3 (1.6517634, 0.6475776672363281, 0.6475730895996094)\n5_4 (2.2285936, 0.7812690734863281, 0.7812690734863281)\n5_5 (1.2287679, 0.8203140258789062, 0.8203140258789062)\n6_1 (1.3788066, 0.8204132080078125, 0.8204132080078125)\n6_2 (0.9166717, 0.8651054382324219, 0.8651054382324219)\n6_3 (1.0525947, 0.8773681640625, 0.8773635864257813)\n6_4 (1.0419506, 0.8457534790039063, 0.8457534790039063)\n6_5 (1.6027156, 0.8845962524414063, 0.8845962524414063)\n7_1 (1.551476, 0.701025390625, 0.701025390625)\n7_2 (1.2468381, 0.5927543640136719, 0.5927543640136719)\n7_3 (0.6647029, 0.6033966064453125, 0.6033966064453125)\n7_4 (0.9143059, 0.8055213928222656, 0.8055213928222656)\n7_5 (1.7714733, 0.8371864318847656, 0.8367546081542969)\n"
    }
   ],
   "source": [
    "original_gt = sorted([str(path) for path in (scared_data_root_path/'left_depthmap').iterdir() ])\n",
    "final_gt = sorted([str(path) for path in (scared_data_root_path/'final_left_depthmap').iterdir() ])\n",
    "\n",
    "for original_path, final_gt in zip( original_gt, final_gt):\n",
    "    fid = Path(original_path).stem\n",
    "    original = iotools.load_depthmap_xyz(original_path)\n",
    "    final = iotools.load_depthmap_xyz(final_gt)\n",
    "    results = evaluation.xyz_error(original, final)\n",
    "    print(fid, results)"
   ]
  },
  {
   "cell_type": "code",
   "execution_count": 11,
   "metadata": {},
   "outputs": [],
   "source": [
    "final_semi_dense_depthmaps_png_dir =Path(scared_data_root_path / 'final_sparse_left_depthmap_png')\n",
    "final_semi_dense_depthmaps_dir =Path(scared_data_root_path / 'final_sparse_left_depthmap')\n",
    "\n",
    "final_semi_dense_depthmaps_png_dir.mkdir(parents=True, exist_ok=True)\n",
    "final_semi_dense_depthmaps_dir.mkdir(parents=True, exist_ok=True)"
   ]
  },
  {
   "cell_type": "code",
   "execution_count": 12,
   "metadata": {},
   "outputs": [],
   "source": [
    "for clean_depthmap_png_path in clean_scared_depthmap_png.iterdir():\n",
    "    calib =StereoCalibrator().load(str(scared_data_root_path/ ('original_calib/' +clean_depthmap_png_path.stem+'.yaml')))\n",
    "    clean = iotools.load_subpix_png(clean_depthmap_png_path)[0]\n",
    "    final = iotools.load_subpix_png(final_depthmaps_png_dir/clean_depthmap_png_path.name)[0]\n",
    "    final_semi_dense = final.copy()\n",
    "    final_semi_dense[clean==0]=0\n",
    "    final_semi_dense_scared = dm.depthmap_to_pts3d(final_semi_dense,calib['K1'], calib['D1'])\n",
    "    iotools.save_subpix_png(final_semi_dense_depthmaps_png_dir/clean_depthmap_png_path.name, final_semi_dense)\n",
    "    iotools.save_depthmap_xyz(final_semi_dense_depthmaps_dir/(clean_depthmap_png_path.stem +'.tiff'), final_semi_dense_scared)\n"
   ]
  },
  {
   "cell_type": "code",
   "execution_count": 13,
   "metadata": {
    "tags": []
   },
   "outputs": [
    {
     "output_type": "stream",
     "name": "stdout",
     "text": "1_1 (0.7918856, 0.7837417602539063, 0.55032958984375)\n1_2 (0.93791753, 0.8304611206054687, 0.6294532775878906)\n1_3 (0.9122211, 0.8681564331054688, 0.6576278686523438)\n1_4 (0.4880914, 0.7297950744628906, 0.5398582458496094)\n1_5 (0.66345423, 0.719012451171875, 0.5088981628417969)\n2_1 (0.5364626, 0.6527061462402344, 0.4771446228027344)\n2_2 (0.7546803, 0.8476577758789062, 0.6655830383300781)\n2_3 (0.6803394, 0.5437171936035157, 0.3793525695800781)\n2_4 (0.3588982, 0.6760147094726563, 0.5083091735839844)\n2_5 (1.2456032, 0.7500335693359375, 0.5631744384765625)\n3_1 (1.1397939, 0.7493560791015625, 0.565252685546875)\n3_2 (0.84761184, 0.7737480163574219, 0.5852485656738281)\n3_3 (1.0943161, 0.7049179077148438, 0.49687881469726564)\n3_4 (0.86726105, 0.7672004699707031, 0.5522323608398437)\n3_5 (1.0079345, 0.6624839782714844, 0.47533416748046875)\n4_1 (1.2609231, 0.7245307922363281, 0.5069389343261719)\n4_2 (1.1836874, 0.8215568542480469, 0.6281532287597656)\n4_3 (0.95631593, 0.7850860595703125, 0.5373764038085938)\n4_4 (0.85455537, 0.6976829528808594, 0.4248359680175781)\n4_5 (0.9875964, 0.7460830688476563, 0.5024940490722656)\n5_1 (1.3782567, 0.6613021850585937, 0.4394622802734375)\n5_2 (1.0335999, 0.5514633178710937, 0.3202552795410156)\n5_3 (0.97566324, 0.6475776672363281, 0.437152099609375)\n5_4 (1.5779538, 0.7812690734863281, 0.5386016845703125)\n5_5 (0.6694618, 0.8203140258789062, 0.5384986877441407)\n6_1 (1.2130519, 0.8204132080078125, 0.6881698608398438)\n6_2 (0.85288185, 0.8651054382324219, 0.6573127746582031)\n6_3 (0.9368525, 0.8773681640625, 0.7502593994140625)\n6_4 (0.938456, 0.8457534790039063, 0.7368812561035156)\n6_5 (1.4492284, 0.8845962524414063, 0.7636627197265625)\n7_1 (1.5740079, 0.701025390625, 0.509625244140625)\n7_2 (1.2424228, 0.5927543640136719, 0.4076507568359375)\n7_3 (0.64478457, 0.6033966064453125, 0.41294174194335936)\n7_4 (0.9275453, 0.8055213928222656, 0.5851318359375)\n7_5 (1.010208, 0.8371864318847656, 0.643536376953125)\n"
    }
   ],
   "source": [
    "original_gt = sorted([str(path) for path in (scared_data_root_path/'left_depthmap').iterdir() ])\n",
    "final_sparse_gt = sorted([str(path) for path in (scared_data_root_path/'final_sparse_left_depthmap').iterdir() ])\n",
    "\n",
    "for original_path, final_gt in zip( original_gt, final_sparse_gt):\n",
    "    fid = Path(original_path).stem\n",
    "    original = iotools.load_depthmap_xyz(original_path)\n",
    "    final = iotools.load_depthmap_xyz(final_gt)\n",
    "    results = evaluation.xyz_error(original, final)\n",
    "    print(fid, results)"
   ]
  },
  {
   "cell_type": "markdown",
   "metadata": {},
   "source": [
    "# Disparities\n",
    "\n",
    "Create disparities with both full and sparce ground truth with stereo rectification value = 0\n"
   ]
  },
  {
   "cell_type": "code",
   "execution_count": 17,
   "metadata": {},
   "outputs": [],
   "source": [
    "comple_calibration_dir = Path(scared_data_root_path / 'complete_calib')\n",
    "rect_left_dir = Path(scared_data_root_path / 'rect_left')\n",
    "rect_right_dir = Path(scared_data_root_path / 'rect_right')\n",
    "\n",
    "disparity_sparse_dir = Path(scared_data_root_path / 'disparity_sparse')\n",
    "disparity_dir = Path(scared_data_root_path / 'disparity')\n",
    "\n",
    "comple_calibration_dir.mkdir(parents=True, exist_ok=True)\n",
    "rect_left_dir.mkdir(parents=True, exist_ok=True)\n",
    "rect_right_dir.mkdir(parents=True, exist_ok=True)\n",
    "disparity_sparse_dir.mkdir(parents=True, exist_ok=True)\n",
    "disparity_dir.mkdir(parents=True, exist_ok=True)"
   ]
  },
  {
   "cell_type": "code",
   "execution_count": 28,
   "metadata": {},
   "outputs": [],
   "source": [
    "dense_gt = sorted([str(path) for path in (scared_data_root_path/'final_left_depthmap').iterdir() ])\n",
    "sparse_gt = sorted([str(path) for path in (scared_data_root_path/'final_sparse_left_depthmap').iterdir() ])\n",
    "calib_init = sorted([str(path) for path in (scared_data_root_path/'original_calib').iterdir() ])\n",
    "left_dir = (scared_data_root_path/'left')\n",
    "right_dir = (scared_data_root_path/'right')\n",
    "for dense_tiff_path, sparse_tiff_path, calib_path in zip(dense_gt, sparse_gt, calib_init):\n",
    "    calibrator = StereoCalibrator()\n",
    "    calibrator.load(calib_path)\n",
    "\n",
    "    left=cv2.imread(str(left_dir/(Path(dense_tiff_path).stem+'.png')))\n",
    "    right=cv2.imread(str(right_dir/(Path(dense_tiff_path).stem+'.png')))\n",
    "\n",
    "    left_rect, right_rect = calibrator.rectify(left, right, alpha=0)\n",
    "\n",
    "    cv2.imwrite(str(rect_left_dir/(Path(dense_tiff_path).stem+'.png')), left_rect)\n",
    "    cv2.imwrite(str(rect_right_dir/(Path(dense_tiff_path).stem+'.png')), right_rect)\n",
    "\n",
    "    calibrator.save(str(comple_calibration_dir/(Path(dense_tiff_path).stem+'.json')))\n",
    "    \n",
    "    dense = iotools.load_depthmap_xyz(dense_tiff_path)\n",
    "    sparse = iotools.load_depthmap_xyz(sparse_tiff_path)\n",
    "    calib = calibrator.calib\n",
    "\n",
    "    dense_rot = dm.transform_pts(dense.reshape(-1,3), dm.create_RT(R=calib['R1']))\n",
    "    sparse_rot = dm.transform_pts(sparse.reshape(-1,3), dm.create_RT(R=calib['R1']))\n",
    "\n",
    "    disparity_dense = dm.ptd3d_to_disparity(dense_rot, calib['P1'],calib['P2'], (1024,1280))\n",
    "    disparity_sparse = dm.ptd3d_to_disparity(sparse_rot, calib['P1'],calib['P2'], (1024,1280))\n",
    "\n",
    "    iotools.save_subpix_png(disparity_sparse_dir/(Path(dense_tiff_path).stem+'.png'), disparity_sparse)\n",
    "    iotools.save_subpix_png(disparity_dir/(Path(dense_tiff_path).stem+'.png'), disparity_dense)\n"
   ]
  },
  {
   "cell_type": "code",
   "execution_count": 25,
   "metadata": {},
   "outputs": [
    {
     "output_type": "execute_result",
     "data": {
      "text/plain": "[]"
     },
     "metadata": {},
     "execution_count": 25
    }
   ],
   "source": [
    "calib_init"
   ]
  },
  {
   "cell_type": "code",
   "execution_count": null,
   "metadata": {},
   "outputs": [],
   "source": []
  }
 ]
}