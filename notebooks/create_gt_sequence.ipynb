{
 "metadata": {
  "language_info": {
   "codemirror_mode": {
    "name": "ipython",
    "version": 3
   },
   "file_extension": ".py",
   "mimetype": "text/x-python",
   "name": "python",
   "nbconvert_exporter": "python",
   "pygments_lexer": "ipython3",
   "version": 3
  },
  "orig_nbformat": 2,
  "kernelspec": {
   "name": "python_defaultSpec_1595511201161",
   "display_name": "Python 3.8.3 64-bit ('scareddata': conda)"
  }
 },
 "nbformat": 4,
 "nbformat_minor": 2,
 "cells": [
  {
   "cell_type": "code",
   "execution_count": 1,
   "metadata": {},
   "outputs": [],
   "source": [
    "import sys; sys.path.append('..')\n",
    "import cv2\n",
    "import numpy as np \n",
    "from scareddataset.calibrator import StereoCalibrator\n",
    "from scareddataset import iotools\n",
    "import scareddataset.data_maniputlation as dm\n",
    "import json\n",
    "from pathlib import Path\n",
    "import re"
   ]
  },
  {
   "cell_type": "markdown",
   "metadata": {},
   "source": [
    "Create a sequence with all transformation matrices."
   ]
  },
  {
   "cell_type": "code",
   "execution_count": 54,
   "metadata": {},
   "outputs": [],
   "source": [
    "def get_RT(file_path):\n",
    "    with open(file_path,'r') as f:\n",
    "        data = json.load(f)\n",
    "        pose = np.array(data['camera-pose'])\n",
    "    return pose"
   ]
  },
  {
   "cell_type": "code",
   "execution_count": 2,
   "metadata": {},
   "outputs": [],
   "source": [
    "calib_path = '/home/dimitrisps/Documents/programming/SCARED_dataset_toolkit/complete_calib.json'\n",
    "calib = StereoCalibrator().load(calib_path)\n",
    "gt_image_3d_init = iotools.load_depthmap_xyz('/home/dimitrisps/Documents/programming/SCARED_dataset_toolkit/data/keyframe_1/left_depth_map.tiff')"
   ]
  },
  {
   "cell_type": "code",
   "execution_count": 3,
   "metadata": {},
   "outputs": [],
   "source": [
    "frame_data_dir = Path('/home/dimitrisps/Documents/programming/SCARED_dataset_toolkit/data/keyframe_1/data/frame_data')\n",
    "gt_left_dir = Path('/home/dimitrisps/Documents/programming/SCARED_dataset_toolkit/data/keyframe_1/data/ground_truth')\n",
    "interpolated_disparities_dir = Path('/home/dimitrisps/Documents/programming/SCARED_dataset_toolkit/data/keyframe_1/data/interpolated_disparities')"
   ]
  },
  {
   "cell_type": "code",
   "execution_count": null,
   "metadata": {},
   "outputs": [],
   "source": [
    "\n",
    "frame_data_path = sorted([str(file_name) for file_name in frame_data_dir.iterdir()])\n",
    "scene_points_data_path = sorted([str(file_name) for file_name in gt_left_dir.iterdir()])"
   ]
  },
  {
   "cell_type": "code",
   "execution_count": 57,
   "metadata": {},
   "outputs": [],
   "source": [
    "frame_data = [get_RT(f) for f in frame_data_path]"
   ]
  },
  {
   "cell_type": "code",
   "execution_count": 58,
   "metadata": {
    "tags": []
   },
   "outputs": [],
   "source": [
    "\n",
    "interpolated_disparities_dir.mkdir(parents=True, exist_ok=True)\n",
    "for fd_path, sp_path in zip(frame_data_path, scene_points_data_path):\n",
    "    gt_pts_instance = gt_image_3d_init.copy()\n",
    "    \n",
    "\n",
    "    # project to new disparity\n",
    "    frame_id = re.findall(r'(\\d{6})',Path(fd_path).stem)[0]\n",
    "    interpolated_disparity_path = str(interpolated_disparities_dir/('disparity' +frame_id+'.png'))\n",
    "\n",
    "    RT = dm.create_RT(R=calib['R1']) @ get_RT(fd_path)#combine pose rotatation and rectification rotation \n",
    "    gt_pts_instance = dm.transform_pts(gt_pts_instance.reshape(-1,3), RT)\n",
    "    disparity_img = dm.ptd3d_to_disparity(gt_pts_instance, calib['P1'], calib['P2'], (1024,1280))\n",
    "    cv2.imwrite(interpolated_disparity_path, (disparity_img*256.).astype(np.uint16))"
   ]
  },
  {
   "cell_type": "markdown",
   "metadata": {
    "tags": []
   },
   "source": []
  },
  {
   "cell_type": "code",
   "execution_count": 4,
   "metadata": {
    "tags": []
   },
   "outputs": [
    {
     "output_type": "stream",
     "name": "stdout",
     "text": "/home/dimitrisps/Documents/programming/SCARED_dataset_toolkit/data/keyframe_1/point_cloud_clean.ply\n"
    }
   ],
   "source": [
    "import meshio\n",
    "print((interpolated_disparities_dir.parents[1]/ 'point_cloud_clean.ply').resolve())"
   ]
  },
  {
   "cell_type": "code",
   "execution_count": 6,
   "metadata": {},
   "outputs": [],
   "source": [
    "import plyfile\n",
    "import cv2\n",
    "from scareddataset import iotools\n",
    "from scareddataset import evaluation as seval"
   ]
  },
  {
   "cell_type": "code",
   "execution_count": 7,
   "metadata": {},
   "outputs": [],
   "source": [
    "pts3d_clean = plyfile.PlyData.read('/home/dimitrisps/Datasets/Scared_stereo/scared/dataset6/keyframe5/point_cloud_clean.ply')\n",
    "pts_3d_clean=[]\n",
    "for i, elem in enumerate(pts3d_clean['vertex']):\n",
    "    pts_3d_clean.append(list(elem))\n",
    "pts_3d_clean = np.asarray(pts_3d_clean)"
   ]
  },
  {
   "cell_type": "code",
   "execution_count": 8,
   "metadata": {},
   "outputs": [
    {
     "output_type": "execute_result",
     "data": {
      "text/plain": "True"
     },
     "metadata": {},
     "execution_count": 8
    }
   ],
   "source": [
    "\n",
    "pts_3d_clean_rot = dm.transform_pts(pts_3d_clean, dm.create_RT(calib['R1']))\n",
    "disparity_clean = dm.ptd3d_to_disparity(pts_3d_clean_rot, calib['P1'], calib['P2'], (1024,1280))\n",
    "cv2.imwrite('./clean_disparity.png', disparity_clean.astype(np.uint8))"
   ]
  },
  {
   "cell_type": "code",
   "execution_count": 9,
   "metadata": {},
   "outputs": [
    {
     "output_type": "execute_result",
     "data": {
      "text/plain": "True"
     },
     "metadata": {},
     "execution_count": 9
    }
   ],
   "source": [
    "pts_3d = iotools.load_depthmap_xyz('/home/dimitrisps/Datasets/Scared_stereo/scared/dataset6/keyframe5/left_depth_map.tiff')\n",
    "pts_3d_rot = pts_3d_clean_rot = dm.transform_pts(pts_3d.reshape(-1,3), dm.create_RT(calib['R1']))\n",
    "disparity = dm.ptd3d_to_disparity(pts_3d_rot, calib['P1'], calib['P2'], (1024,1280))\n",
    "cv2.imwrite('./disparity.png', disparity.astype(np.uint8))"
   ]
  },
  {
   "cell_type": "code",
   "execution_count": 10,
   "metadata": {},
   "outputs": [
    {
     "output_type": "execute_result",
     "data": {
      "text/plain": "(3.173319672378371, 0.8845962524414063, 0.6446609497070312)"
     },
     "metadata": {},
     "execution_count": 10
    }
   ],
   "source": [
    "seval.xyz_error(pts_3d, dm.disparity_to_original_scared(disparity.astype(np.float32), calib))"
   ]
  },
  {
   "cell_type": "code",
   "execution_count": 11,
   "metadata": {},
   "outputs": [
    {
     "output_type": "execute_result",
     "data": {
      "text/plain": "(3.128699062378841, 0.8845962524414063, 0.6428543090820312)"
     },
     "metadata": {},
     "execution_count": 11
    }
   ],
   "source": [
    "seval.xyz_error(pts_3d, dm.disparity_to_original_scared(disparity_clean.astype(np.float32), calib))"
   ]
  },
  {
   "cell_type": "code",
   "execution_count": 13,
   "metadata": {},
   "outputs": [],
   "source": [
    "from scipy.interpolate import griddata\n",
    "\n",
    "def disparity_mod(disparity):\n",
    "    a = disparity.copy()\n",
    "    a[a==0]=np.nan\n",
    "\n",
    "    #interpolate zero values if possible.\n",
    "    x, y = np.indices(a.shape)\n",
    "    interp = np.array(a)\n",
    "    interp[np.isnan(interp)] = griddata(\n",
    "        (x[~np.isnan(a)], y[~np.isnan(a)]), # points we know\n",
    "        a[~np.isnan(a)],                    # values we know\n",
    "        (x[np.isnan(a)], y[np.isnan(a)]))   # points to interpolate\n",
    "    #apply gaussian blur to smouth out depth (low pass filter)\n",
    "    # out = cv2.GaussianBlur(interp.astype(np.float32), (15,15), 0.8, borderType=cv2.BORDER_CONSTANT)\n",
    "    return interp\n",
    "\n",
    "    "
   ]
  },
  {
   "cell_type": "code",
   "execution_count": 14,
   "metadata": {},
   "outputs": [],
   "source": [
    "out = disparity_mod(disparity_clean)\n",
    "    "
   ]
  },
  {
   "cell_type": "code",
   "execution_count": 15,
   "metadata": {},
   "outputs": [
    {
     "output_type": "execute_result",
     "data": {
      "text/plain": "array([[nan, nan, nan, ..., nan, nan, nan],\n       [nan, nan, nan, ..., nan, nan, nan],\n       [nan, nan, nan, ..., nan, nan, nan],\n       ...,\n       [nan, nan, nan, ..., nan, nan, nan],\n       [nan, nan, nan, ..., nan, nan, nan],\n       [nan, nan, nan, ..., nan, nan, nan]])"
     },
     "metadata": {},
     "execution_count": 15
    }
   ],
   "source": [
    "out"
   ]
  },
  {
   "cell_type": "code",
   "execution_count": 16,
   "metadata": {},
   "outputs": [
    {
     "output_type": "execute_result",
     "data": {
      "text/plain": "(3.2303353763415186, 0.8845962524414063, 0.7433181762695312)"
     },
     "metadata": {},
     "execution_count": 16
    }
   ],
   "source": [
    "    \n",
    "test_disp = cv2.GaussianBlur(out.astype(np.float32), (51,51), 10)\n",
    "cv2.imwrite('./test_disp_tool.png', test_disp.astype(np.uint8))\n",
    "test_pts_3d = dm.disparity_to_original_scared(test_disp.astype(np.float32), calib)\n",
    "seval.xyz_error(pts_3d, test_pts_3d)"
   ]
  },
  {
   "cell_type": "code",
   "execution_count": 17,
   "metadata": {},
   "outputs": [],
   "source": [
    "iotools.export_ply('./test_pts_tool_3d-51-10.ply',test_pts_3d.reshape(-1,3))"
   ]
  },
  {
   "cell_type": "code",
   "execution_count": 40,
   "metadata": {},
   "outputs": [
    {
     "output_type": "execute_result",
     "data": {
      "text/plain": "True"
     },
     "metadata": {},
     "execution_count": 40
    }
   ],
   "source": [
    "np.isnan(test_pts_3d.reshape(-1,3)[0]).any()"
   ]
  },
  {
   "cell_type": "code",
   "execution_count": 18,
   "metadata": {},
   "outputs": [
    {
     "output_type": "execute_result",
     "data": {
      "text/plain": "nan"
     },
     "metadata": {},
     "execution_count": 18
    }
   ],
   "source": [
    "test_disp.reshape(-1)[0]"
   ]
  },
  {
   "cell_type": "code",
   "execution_count": null,
   "metadata": {},
   "outputs": [],
   "source": []
  }
 ]
}