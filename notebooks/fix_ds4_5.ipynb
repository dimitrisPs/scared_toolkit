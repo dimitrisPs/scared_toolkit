{
 "metadata": {
  "language_info": {
   "codemirror_mode": {
    "name": "ipython",
    "version": 3
   },
   "file_extension": ".py",
   "mimetype": "text/x-python",
   "name": "python",
   "nbconvert_exporter": "python",
   "pygments_lexer": "ipython3",
   "version": "3.8.3-final"
  },
  "orig_nbformat": 2,
  "kernelspec": {
   "name": "python_defaultSpec_1595675418081",
   "display_name": "Python 3.8.3 64-bit ('scareddata': conda)"
  }
 },
 "nbformat": 4,
 "nbformat_minor": 2,
 "cells": [
  {
   "cell_type": "code",
   "execution_count": 1,
   "metadata": {},
   "outputs": [],
   "source": [
    "import cv2\n",
    "import numpy as np\n",
    "import sys; sys.path.append('..')\n",
    "from scareddataset import iotools\n",
    "import scareddataset.data_maniputlation as dm\n",
    "from scareddataset.calibrator import StereoCalibrator\n",
    "from pathlib import Path"
   ]
  },
  {
   "cell_type": "code",
   "execution_count": 2,
   "metadata": {},
   "outputs": [],
   "source": [
    "data_dir = Path('/home/dimitrisps/Datasets/Scared_stereo/scared/dataset4/keyframe1')"
   ]
  },
  {
   "cell_type": "code",
   "execution_count": 3,
   "metadata": {},
   "outputs": [],
   "source": [
    "left =  cv2.imread(str(data_dir/'Left_image.png'))\n",
    "right = cv2.imread(str(data_dir/'Right_image.png'))\n",
    "pts3d_left = iotools.load_depthmap_xyz(data_dir/'left_depth_map.tiff')\n",
    "pts3d_right = iotools.load_depthmap_xyz(data_dir/'right_depth_map.tiff')\n",
    "\n",
    "depthmap_left = dm.scared_to_depthmap(pts3d_left)\n",
    "depthmap_right = dm.scared_to_depthmap(pts3d_right)\n",
    "\n",
    "iotools.save_subpix_png('./depthmap_left.png', depthmap_left)\n",
    "iotools.save_subpix_png('./depthmap_right.png', depthmap_right)"
   ]
  },
  {
   "cell_type": "code",
   "execution_count": 4,
   "metadata": {},
   "outputs": [],
   "source": [
    "calibrator = StereoCalibrator()\n",
    "calib = calibrator.load(str(data_dir/'endoscope_calibration.yaml'))"
   ]
  },
  {
   "cell_type": "code",
   "execution_count": 5,
   "metadata": {},
   "outputs": [],
   "source": [
    "RT = dm.create_RT(R = calib['R'], T=calib['T'])"
   ]
  },
  {
   "cell_type": "code",
   "execution_count": 6,
   "metadata": {},
   "outputs": [],
   "source": [
    "right_pts_cp = pts3d_right.copy()\n",
    "right_to_left = dm.transform_pts(right_pts_cp.reshape(-1,3),np.linalg.inv(RT))"
   ]
  },
  {
   "cell_type": "code",
   "execution_count": 7,
   "metadata": {},
   "outputs": [],
   "source": [
    "depthmap_right_to_left = dm.pts3d_to_depthmap(right_to_left.reshape(-1,3), calib['K1'], calib['D1'], (1024,1280))[0]"
   ]
  },
  {
   "cell_type": "code",
   "execution_count": 8,
   "metadata": {},
   "outputs": [],
   "source": [
    "iotools.save_subpix_png('./right_to_left_depthmap.png', depthmap_right_to_left)"
   ]
  },
  {
   "cell_type": "code",
   "execution_count": null,
   "metadata": {},
   "outputs": [],
   "source": [
    "orb = cv2.ORB()"
   ]
  },
  {
   "cell_type": "code",
   "execution_count": null,
   "metadata": {},
   "outputs": [],
   "source": [
    "kp_left, des_left = orb.detectAndCompute(left,None)"
   ]
  },
  {
   "cell_type": "code",
   "execution_count": null,
   "metadata": {},
   "outputs": [],
   "source": [
    "kp_right, des_right = orb.detectAndCompute(right,None)"
   ]
  },
  {
   "cell_type": "code",
   "execution_count": null,
   "metadata": {},
   "outputs": [],
   "source": [
    "import matplotlib.pyplot as plt"
   ]
  },
  {
   "cell_type": "code",
   "execution_count": null,
   "metadata": {},
   "outputs": [],
   "source": [
    "# create BFMatcher object\n",
    "bf = cv2.BFMatcher(cv.NORM_HAMMING, crossCheck=True)\n",
    "# Match descriptors.\n",
    "matches = bf.match(des_left,des_right)\n",
    "# Sort them in the order of their distance.\n",
    "matches = sorted(matches, key = lambda x:x.distance)\n",
    "# Draw first 10 matches.\n",
    "img3 = cv2.drawMatches(left,kp_left,right,kp_right,matches[:10],None,flags=cv.DrawMatchesFlags_NOT_DRAW_SINGLE_POINTS)\n",
    "plt.imshow(img3),plt.show()"
   ]
  }
 ]
}