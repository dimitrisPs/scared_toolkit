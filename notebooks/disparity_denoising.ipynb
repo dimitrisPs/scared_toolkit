{
 "metadata": {
  "language_info": {
   "codemirror_mode": {
    "name": "ipython",
    "version": 3
   },
   "file_extension": ".py",
   "mimetype": "text/x-python",
   "name": "python",
   "nbconvert_exporter": "python",
   "pygments_lexer": "ipython3",
   "version": 3
  },
  "orig_nbformat": 2,
  "kernelspec": {
   "name": "python_defaultSpec_1595407473039",
   "display_name": "Python 3.8.3 64-bit ('scareddata': conda)"
  }
 },
 "nbformat": 4,
 "nbformat_minor": 2,
 "cells": [
  {
   "cell_type": "code",
   "execution_count": 34,
   "metadata": {},
   "outputs": [],
   "source": [
    "import cv2\n",
    "import numpy as np\n",
    "from pathlib import Path\n",
    "import sys; sys.path.append('..')\n",
    "from scareddataset import iotools\n",
    "from scareddataset import data_maniputlation as dm \n",
    "from scareddataset import calibrator as cb\n",
    "from scareddataset import evaluation as evaluation"
   ]
  },
  {
   "cell_type": "code",
   "execution_count": 35,
   "metadata": {},
   "outputs": [],
   "source": [
    "root_dataset_dir = Path('/home/dimitrisps/Datasets/Scared_stereo/scared')\n",
    "sample_dir = Path('/home/dimitrisps/Datasets/Scared_stereo/scared/dataset6/keyframe5')\n",
    "# image_3d = sample_dir / 'left_depth_map.tiff'\n",
    "init_calib = sample_dir / 'endoscope_calibration.yaml'\n"
   ]
  },
  {
   "cell_type": "code",
   "execution_count": 36,
   "metadata": {
    "tags": []
   },
   "outputs": [],
   "source": [
    "calibrator = cb.StereoCalibrator()\n",
    "# calib = calibrator.load(str(init_calib))\n",
    "calib = calibrator.load('/home/dimitrisps/Documents/programming/SCARED_dataset_toolkit/complete_calib.json')"
   ]
  },
  {
   "cell_type": "code",
   "execution_count": 37,
   "metadata": {},
   "outputs": [
    {
     "output_type": "execute_result",
     "data": {
      "text/plain": "1.0"
     },
     "metadata": {},
     "execution_count": 37
    }
   ],
   "source": [
    "np.linalg.det(calib['R'])"
   ]
  },
  {
   "cell_type": "code",
   "execution_count": 38,
   "metadata": {},
   "outputs": [],
   "source": [
    "left0 = cv2.imread(str(sample_dir / 'Left_Image.png'))\n",
    "right0 = cv2.imread(str(sample_dir / 'Right_Image.png'))\n",
    "gt0 = iotools.load_depthmap_xyz(str(sample_dir / 'left_depth_map.tiff'))\n",
    "size = left0.shape[:2]"
   ]
  },
  {
   "cell_type": "code",
   "execution_count": 39,
   "metadata": {},
   "outputs": [],
   "source": [
    "left_rect_m1, right_rect_m1 = calibrator.rectify(left0, right0)\n",
    "calib_m1 = calibrator.calib.copy()\n",
    "gt_m1 = gt0.copy()\n",
    "gt_m1_rot = dm.transform_pts(gt_m1.reshape(-1,3),dm.create_RT(R = calib_m1['R1']))\n",
    "\n",
    "disparity_img_m1 = dm.ptd3d_to_disparity(gt_m1_rot, calib_m1['P1'], calib_m1['P2'], size)\n"
   ]
  },
  {
   "cell_type": "code",
   "execution_count": 40,
   "metadata": {},
   "outputs": [],
   "source": [
    "left_rect_0, right_rect_0 = calibrator.rectify(left0, right0, 0)\n",
    "calib_0 = calibrator.calib.copy()\n",
    "gt_0 = gt0.copy()\n",
    "gt_0_rot = dm.transform_pts(gt_0.reshape(-1,3),dm.create_RT(R = calib_0['R1']))\n",
    "disparity_img_0 = dm.ptd3d_to_disparity(gt_0_rot, calib_0['P1'], calib_0['P2'], size)"
   ]
  },
  {
   "cell_type": "code",
   "execution_count": 8,
   "metadata": {},
   "outputs": [
    {
     "output_type": "execute_result",
     "data": {
      "text/plain": "True"
     },
     "metadata": {},
     "execution_count": 8
    }
   ],
   "source": [
    "cv2.imwrite('./disparity_0.png', disparity_img_0.astype(np.uint8))\n",
    "cv2.imwrite('./disparity_m1.png', disparity_img_m1.astype(np.uint8))"
   ]
  },
  {
   "cell_type": "code",
   "execution_count": 33,
   "metadata": {},
   "outputs": [],
   "source": [
    "calibrator.save('test_calib.json')"
   ]
  },
  {
   "cell_type": "code",
   "execution_count": 8,
   "metadata": {},
   "outputs": [],
   "source": [
    "pts3d_recon_0 = dm.disparity_to_original_scared(disparity_img_0.astype(np.float32), calib_0)\n",
    "pts3d_recon_m1 = dm.disparity_to_original_scared(disparity_img_m1.astype(np.float32), calib_m1)"
   ]
  },
  {
   "cell_type": "code",
   "execution_count": 33,
   "metadata": {},
   "outputs": [
    {
     "output_type": "error",
     "ename": "NameError",
     "evalue": "name 'pts3d_recon_0' is not defined",
     "traceback": [
      "\u001b[0;31m---------------------------------------------------------------------------\u001b[0m",
      "\u001b[0;31mNameError\u001b[0m                                 Traceback (most recent call last)",
      "\u001b[0;32m<ipython-input-33-3061ae017042>\u001b[0m in \u001b[0;36m<module>\u001b[0;34m\u001b[0m\n\u001b[0;32m----> 1\u001b[0;31m \u001b[0mevaluation\u001b[0m\u001b[0;34m.\u001b[0m\u001b[0mxyz_error\u001b[0m\u001b[0;34m(\u001b[0m\u001b[0mgt0\u001b[0m\u001b[0;34m,\u001b[0m \u001b[0mpts3d_recon_0\u001b[0m\u001b[0;34m)\u001b[0m\u001b[0;34m\u001b[0m\u001b[0;34m\u001b[0m\u001b[0m\n\u001b[0m",
      "\u001b[0;31mNameError\u001b[0m: name 'pts3d_recon_0' is not defined"
     ]
    }
   ],
   "source": [
    "evaluation.xyz_error(gt0, pts3d_recon_0)"
   ]
  },
  {
   "cell_type": "code",
   "execution_count": 10,
   "metadata": {},
   "outputs": [
    {
     "output_type": "execute_result",
     "data": {
      "text/plain": "(0.564536277812165, 0.8845962524414063, 0.7165283203125)"
     },
     "metadata": {},
     "execution_count": 10
    }
   ],
   "source": [
    "evaluation.xyz_error(gt0, pts3d_recon_m1)"
   ]
  },
  {
   "cell_type": "code",
   "execution_count": 13,
   "metadata": {},
   "outputs": [],
   "source": [
    "from scipy.interpolate import griddata\n",
    "\n",
    "\n",
    "a = disparity_img_0.copy()\n",
    "a[a==0]=np.nan\n",
    "\n",
    "\n",
    "x, y = np.indices(a.shape)\n",
    "interp_0 = np.array(a)\n",
    "interp_0[np.isnan(interp_0)] = griddata(\n",
    "    (x[~np.isnan(a)], y[~np.isnan(a)]), # points we know\n",
    "    a[~np.isnan(a)],                    # values we know\n",
    "    (x[np.isnan(a)], y[np.isnan(a)]))   # points to interpolate\n"
   ]
  },
  {
   "cell_type": "code",
   "execution_count": 14,
   "metadata": {},
   "outputs": [],
   "source": [
    "a = disparity_img_m1.copy()\n",
    "a[a==0]=np.nan\n",
    "\n",
    "\n",
    "x, y = np.indices(a.shape)\n",
    "interp_m1 = np.array(a)\n",
    "interp_m1[np.isnan(interp_m1)] = griddata(\n",
    "    (x[~np.isnan(a)], y[~np.isnan(a)]), # points we know\n",
    "    a[~np.isnan(a)],                    # values we know\n",
    "    (x[np.isnan(a)], y[np.isnan(a)]))   # points to interpolate"
   ]
  },
  {
   "cell_type": "code",
   "execution_count": 20,
   "metadata": {},
   "outputs": [
    {
     "output_type": "execute_result",
     "data": {
      "text/plain": "True"
     },
     "metadata": {},
     "execution_count": 20
    }
   ],
   "source": [
    "depthmap = dm.pts3d_to_depthmap(gt_0)\n",
    "cv2.imwrite('depthmap.png', depthmap)"
   ]
  },
  {
   "cell_type": "code",
   "execution_count": 22,
   "metadata": {},
   "outputs": [
    {
     "output_type": "execute_result",
     "data": {
      "text/plain": "True"
     },
     "metadata": {},
     "execution_count": 22
    }
   ],
   "source": [
    "a = depthmap.copy()\n",
    "a[a==0]=np.nan\n",
    "\n",
    "\n",
    "x, y = np.indices(a.shape)\n",
    "interp_depthmap = np.array(a)\n",
    "interp_depthmap[np.isnan(interp_depthmap)] = griddata(\n",
    "    (x[~np.isnan(a)], y[~np.isnan(a)]), # points we know\n",
    "    a[~np.isnan(a)],                    # values we know\n",
    "    (x[np.isnan(a)], y[np.isnan(a)]))   # points to interpolate\n",
    "cv2.imwrite('./interpolated_depthmap.png',interp_depthmap)"
   ]
  },
  {
   "cell_type": "code",
   "execution_count": null,
   "metadata": {},
   "outputs": [],
   "source": []
  },
  {
   "cell_type": "code",
   "execution_count": 15,
   "metadata": {},
   "outputs": [
    {
     "output_type": "execute_result",
     "data": {
      "text/plain": "True"
     },
     "metadata": {},
     "execution_count": 15
    }
   ],
   "source": [
    "cv2.imwrite('interpolated_0.png', interp_0.astype(np.uint8))\n",
    "cv2.imwrite('interpolated_m1.png', interp_m1.astype(np.uint8))"
   ]
  },
  {
   "cell_type": "code",
   "execution_count": 18,
   "metadata": {},
   "outputs": [
    {
     "output_type": "execute_result",
     "data": {
      "text/plain": "True"
     },
     "metadata": {},
     "execution_count": 18
    }
   ],
   "source": [
    "interp_filt = interp_0.copy()\n",
    "# interp_filt = cv2.GaussianBlur(interp_filt.astype(np.float32), (9,9),0.5)\n",
    "# interp_filt = cv2.bilateralFilter(interp_filt.astype(np.float32),9,75,75)\n",
    "\n",
    "interp_filt = cv2.GaussianBlur(interp_filt.astype(np.float32), (25,25),1, borderType=cv2.BORDER_REFLECT)\n",
    "interp_filt = cv2.medianBlur(interp_filt.astype(np.float32), 5)\n",
    "cv2.imwrite('interpolated_filt_0.png', interp_filt.astype(np.uint8))"
   ]
  },
  {
   "cell_type": "code",
   "execution_count": 32,
   "metadata": {},
   "outputs": [
    {
     "output_type": "execute_result",
     "data": {
      "text/plain": "(0.8778428810334604, 0.8845962524414063, 0.6964210510253906)"
     },
     "metadata": {},
     "execution_count": 32
    }
   ],
   "source": [
    "pts3d_recon_0_gb = dm.disparity_to_original_scared(interp_filt.astype(np.float32), calib_0)\n",
    "evaluation.xyz_error(gt0, pts3d_recon_0_gb)\n"
   ]
  },
  {
   "cell_type": "code",
   "execution_count": 20,
   "metadata": {},
   "outputs": [],
   "source": [
    "iotools.export_ply('./ds1_kf1.ply',pts3d_recon_0_gb.reshape(-1,3))"
   ]
  },
  {
   "cell_type": "code",
   "execution_count": 79,
   "metadata": {},
   "outputs": [
    {
     "output_type": "execute_result",
     "data": {
      "text/plain": "True"
     },
     "metadata": {},
     "execution_count": 79
    }
   ],
   "source": [
    "disparity_img_0_gb = cv2.medianBlur(disparity_img_0.astype(np.float32), 1)\n",
    "cv2.imwrite('./median.png',disparity_img_0_gb.astype(np.uint8))"
   ]
  },
  {
   "cell_type": "code",
   "execution_count": 80,
   "metadata": {},
   "outputs": [
    {
     "output_type": "execute_result",
     "data": {
      "text/plain": "True"
     },
     "metadata": {},
     "execution_count": 80
    }
   ],
   "source": [
    "disparity_img_0_gb = cv2.GaussianBlur(disparity_img_0.astype(np.float32), (5,5),0)\n",
    "cv2.imwrite('./gaussian.png',disparity_img_0_gb.astype(np.uint8))"
   ]
  },
  {
   "cell_type": "code",
   "execution_count": 81,
   "metadata": {},
   "outputs": [
    {
     "output_type": "execute_result",
     "data": {
      "text/plain": "True"
     },
     "metadata": {},
     "execution_count": 81
    }
   ],
   "source": [
    "disparity_img_0_gb = cv2.bilateralFilter(disparity_img_0.astype(np.float32),9,75,75)\n",
    "cv2.imwrite('./bilateral.png',disparity_img_0_gb.astype(np.uint8))"
   ]
  },
  {
   "cell_type": "code",
   "execution_count": 78,
   "metadata": {},
   "outputs": [
    {
     "output_type": "execute_result",
     "data": {
      "text/plain": "(85.2355257186807, 0.5900093078613281, 0.47687454223632814)"
     },
     "metadata": {},
     "execution_count": 78
    }
   ],
   "source": [
    "pts3d_recon_0_gb = dm.disparity_to_original_scared(disparity_img_0_gb.astype(np.float32), calib_0)\n",
    "evaluation.xyz_error(gt0, pts3d_recon_0_gb)"
   ]
  },
  {
   "cell_type": "code",
   "execution_count": null,
   "metadata": {},
   "outputs": [],
   "source": []
  },
  {
   "cell_type": "code",
   "execution_count": 100,
   "metadata": {},
   "outputs": [],
   "source": [
    "scared_depthmap = iotools.load_depthmap_xyz(str(image_3d))\n",
    "scene_pts_3d = scared_depthmap.reshape(-1,3) #xyz\n",
    "\n",
    "pixel_locs = cv2.projectPoints(scene_pts_3d, np.eye(3), np.zeros(3), calib['K1'], calib['D1'])[0].squeeze()"
   ]
  },
  {
   "cell_type": "code",
   "execution_count": null,
   "metadata": {},
   "outputs": [],
   "source": []
  },
  {
   "cell_type": "code",
   "execution_count": 112,
   "metadata": {},
   "outputs": [],
   "source": [
    "pixel_locs = cv2.projectPoints(scene_pts_3d, np.eye(3), np.zeros(3), calib['K1'], np.zeros(5))[0].squeeze()"
   ]
  },
  {
   "cell_type": "code",
   "execution_count": 158,
   "metadata": {},
   "outputs": [
    {
     "output_type": "execute_result",
     "data": {
      "text/plain": "(1310720, 2)"
     },
     "metadata": {},
     "execution_count": 158
    }
   ],
   "source": [
    "pixel_locs.shape"
   ]
  },
  {
   "cell_type": "code",
   "execution_count": 159,
   "metadata": {},
   "outputs": [],
   "source": [
    "pixel_locs = pixel_locs.reshape(1024,1280,2)"
   ]
  },
  {
   "cell_type": "code",
   "execution_count": 160,
   "metadata": {},
   "outputs": [],
   "source": [
    "img_loc = np.mgrid[:1024,:1280].transpose(1,2,0)[:,:,::-1]"
   ]
  },
  {
   "cell_type": "code",
   "execution_count": 161,
   "metadata": {},
   "outputs": [],
   "source": [
    "results = np.sqrt(np.sum((pixel_locs - img_loc)**2, axis=2))\n"
   ]
  },
  {
   "cell_type": "code",
   "execution_count": 162,
   "metadata": {},
   "outputs": [
    {
     "output_type": "execute_result",
     "data": {
      "text/plain": "True"
     },
     "metadata": {},
     "execution_count": 162
    }
   ],
   "source": [
    "cv2.imwrite('./diff_no_dist.png', (results*50).astype(np.uint8))"
   ]
  },
  {
   "cell_type": "code",
   "execution_count": 163,
   "metadata": {
    "tags": []
   },
   "outputs": [
    {
     "output_type": "stream",
     "name": "stdout",
     "text": "1.5787817042295778\n"
    }
   ],
   "source": [
    "print(np.nanmean(results.reshape(-1)))"
   ]
  },
  {
   "cell_type": "code",
   "execution_count": 124,
   "metadata": {},
   "outputs": [],
   "source": [
    "video = cv2.VideoCapture(str(Path('/home/dimitrisps/Datasets/Scared_stereo/keyframe_1/data')/ 'rgb.mp4'))\n",
    "left_dir = (Path('/home/dimitrisps/Datasets/Scared_stereo/keyframe_1/data') /'left')\n",
    "right_dir = (Path('/home/dimitrisps/Datasets/Scared_stereo/keyframe_1/data') /'right')\n",
    "left_dir.mkdir(exist_ok=True)\n",
    "right_dir.mkdir(exist_ok=True)\n",
    "i=0\n",
    "while(video.isOpened()):\n",
    "    ret, frame = video.read()\n",
    "    if not ret:\n",
    "        break\n",
    "    left = frame[:1024]\n",
    "    right= frame[1024:]\n",
    "    \n",
    "    cv2.imwrite(str(left_dir / ('{:06d}.png'.format(i))), left)\n",
    "    cv2.imwrite(str(right_dir / ('{:06d}.png'.format(i))), right)\n",
    "    i+=1\n",
    "video.release()\n",
    "    # calibrator.save(str(root_dir/'stereo_calib.json'))"
   ]
  }
 ]
}