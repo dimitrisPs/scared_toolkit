{
 "cells": [
  {
   "cell_type": "markdown",
   "metadata": {},
   "source": [
    "# Dataset Statistics\n",
    "\n",
    "## What are we looking for\n",
    "\n",
    "- Disparity Range\n",
    "\n",
    "\n",
    "- color statistics across all samples \n",
    "\n",
    "```\n",
    "scared_stats = {'mean': [0.5166654010420086, 0.35145508171530326, 0.4141576199571625],\n",
    "                'std': [0.2261147829979531, 0.21091923665963264, 0.22709445090820987]}\n",
    " ```"
   ]
  },
  {
   "cell_type": "markdown",
   "metadata": {},
   "source": [
    "\n"
   ]
  },
  {
   "cell_type": "code",
   "execution_count": 1,
   "metadata": {},
   "outputs": [],
   "source": [
    "import numpy as np\n",
    "import cv2\n",
    "from pathlib import Path"
   ]
  },
  {
   "cell_type": "code",
   "execution_count": 2,
   "metadata": {},
   "outputs": [],
   "source": [
    "dataset_dir = Path('/home/dimitrisps/Datasets/Scared_stereo/scared')"
   ]
  },
  {
   "cell_type": "code",
   "execution_count": 3,
   "metadata": {},
   "outputs": [],
   "source": [
    "#list all left and right rectified files.\n",
    "left_image_paths = [str(p.resolve()) for p in dataset_dir.rglob('Left_Image.png')]\n",
    "right_image_paths = [str(p.resolve()) for p in dataset_dir.rglob('Right_Image.png')]"
   ]
  },
  {
   "cell_type": "code",
   "execution_count": 4,
   "metadata": {
    "tags": []
   },
   "outputs": [],
   "source": [
    "bgr_mean=[]\n",
    "bgr_std=[]\n",
    "for left_path, right_path in zip(left_image_paths, right_image_paths):\n",
    "    left = cv2.imread(left_path).reshape(-1,3)\n",
    "    right=cv2.imread(right_path).reshape(-1,3)\n",
    "    bgr_mean.append(np.mean(right, axis=0))\n",
    "    bgr_std.append(np.std(right, axis=0))    \n",
    "    bgr_mean.append(np.mean(left, axis=0))\n",
    "    bgr_std.append(np.std(left, axis=0))"
   ]
  },
  {
   "cell_type": "code",
   "execution_count": 5,
   "metadata": {},
   "outputs": [],
   "source": [
    "rgb_mean = np.mean(bgr_mean,axis=0)[::-1]"
   ]
  },
  {
   "cell_type": "code",
   "execution_count": 6,
   "metadata": {},
   "outputs": [],
   "source": [
    "rgb_std = np.mean(bgr_std,axis=0)[::-1]"
   ]
  },
  {
   "cell_type": "code",
   "execution_count": 7,
   "metadata": {},
   "outputs": [],
   "source": [
    "scared_stats = {\"mean\":(rgb_mean/255).tolist(),\n",
    "                \"std\":(rgb_std/255).tolist()}"
   ]
  },
  {
   "cell_type": "code",
   "execution_count": 3,
   "metadata": {},
   "outputs": [],
   "source": [
    "from scipy.stats import describe"
   ]
  },
  {
   "cell_type": "code",
   "execution_count": 27,
   "metadata": {
    "tags": []
   },
   "outputs": [],
   "source": [
    "disparity_paths = [str(p.resolve()) for p in dataset_dir.rglob('disparity.png')]\n",
    "disp_mean=[]\n",
    "disp_std=[]\n",
    "disp_median=[]\n",
    "disp_max=[]\n",
    "disp_min=[]\n",
    "for disp_path in disparity_paths:\n",
    "    disp = cv2.imread(disp_path, -1)\n",
    "    disp = disp/256.\n",
    "    disp[disp==0]=np.nan\n",
    "    disp = disp.reshape(-1)\n",
    "    # _,minmax, mean, variance,*_ = describe(disp, nan_policy='omit')\n",
    "    # print(minmax[1])#, mean, variance)\n",
    "    # print(np.nanmax(disp))\n",
    "    # break\n",
    "    disp_mean.append(np.nanmean(disp))\n",
    "    disp_median.append(np.nanmedian(disp))\n",
    "    disp_max.append(np.nanmax(disp))\n",
    "    disp_min.append(np.nanmin(disp))\n",
    "    disp_std.append(np.nanstd(disp))\n",
    "\n",
    "\n",
    "\n"
   ]
  },
  {
   "cell_type": "code",
   "execution_count": 49,
   "metadata": {},
   "outputs": [],
   "source": [
    "disparity_paths = [str(p.resolve()) for p in dataset_dir.rglob('disparity.png')]\n",
    "disp_mean=[]\n",
    "disp_std=[]\n",
    "disp_median=[]\n",
    "disp_max=[]\n",
    "disp_min=[]\n",
    "for disp_path in disparity_paths:\n",
    "    disp = cv2.imread(disp_path, -1)\n",
    "    disp = disp/256.\n",
    "\n",
    "    # disp = cv2.medianBlur(disp.astype(np.float32), 5)\n",
    "    disp = cv2.GaussianBlur(disp,(5,5),0,0)\n",
    "\n",
    "\n",
    "    disp[disp==0]=np.nan\n",
    "    disp = disp.reshape(-1)\n",
    "    disp_mean.append(np.nanmean(disp))\n",
    "    disp_median.append(np.nanmedian(disp))\n",
    "    disp_max.append(np.nanmax(disp))\n",
    "    disp_min.append(np.nanmin(disp))\n",
    "    disp_std.append(np.nanstd(disp))\n",
    "\n"
   ]
  },
  {
   "cell_type": "code",
   "execution_count": 23,
   "metadata": {
    "tags": []
   },
   "outputs": [
    {
     "output_type": "stream",
     "name": "stdout",
     "text": "Using matplotlib backend: Qt5Agg\n"
    }
   ],
   "source": [
    "import matplotlib.pyplot as plt\n",
    "%matplotlib"
   ]
  },
  {
   "cell_type": "code",
   "execution_count": 31,
   "metadata": {},
   "outputs": [
    {
     "output_type": "execute_result",
     "data": {
      "text/plain": "[<matplotlib.lines.Line2D at 0x7f01dc1b9cf8>]"
     },
     "metadata": {},
     "execution_count": 31
    }
   ],
   "source": [
    "plt.plot(disp_min)"
   ]
  },
  {
   "cell_type": "code",
   "execution_count": 50,
   "metadata": {},
   "outputs": [],
   "source": [
    "samp_num = np.arange(len(disparity_paths))\n",
    "plt.figure()\n",
    "plt.fill_between(samp_num, disp_max, disp_min, color='blue', alpha=0.2)\n",
    "plt.plot(disp_median)\n",
    "plt.show()"
   ]
  },
  {
   "cell_type": "code",
   "execution_count": null,
   "metadata": {},
   "outputs": [],
   "source": []
  }
 ],
 "metadata": {
  "language_info": {
   "codemirror_mode": {
    "name": "ipython",
    "version": 3
   },
   "file_extension": ".py",
   "mimetype": "text/x-python",
   "name": "python",
   "nbconvert_exporter": "python",
   "pygments_lexer": "ipython3",
   "version": "3.6.10-final"
  },
  "orig_nbformat": 2,
  "kernelspec": {
   "name": "python_defaultSpec_1595880360365",
   "display_name": "Python 3.6.10 64-bit ('tmidataset': conda)"
  }
 },
 "nbformat": 4,
 "nbformat_minor": 2
}