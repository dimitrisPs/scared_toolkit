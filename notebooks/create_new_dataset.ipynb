{
 "metadata": {
  "language_info": {
   "codemirror_mode": {
    "name": "ipython",
    "version": 3
   },
   "file_extension": ".py",
   "mimetype": "text/x-python",
   "name": "python",
   "nbconvert_exporter": "python",
   "pygments_lexer": "ipython3",
   "version": 3
  },
  "orig_nbformat": 2,
  "kernelspec": {
   "name": "python_defaultSpec_1595522826269",
   "display_name": "Python 3.8.3 64-bit ('scareddata': conda)"
  }
 },
 "nbformat": 4,
 "nbformat_minor": 2,
 "cells": [
  {
   "cell_type": "code",
   "execution_count": 10,
   "metadata": {},
   "outputs": [],
   "source": [
    "from pathlib import Path \n",
    "import cv2\n",
    "import numpy as np\n",
    "import sys; sys.path.append('..')\n",
    "from scareddataset import iotools\n",
    "import scareddataset.data_maniputlation as dm\n",
    "import shutil\n"
   ]
  },
  {
   "cell_type": "code",
   "execution_count": 13,
   "metadata": {},
   "outputs": [],
   "source": [
    "current_data_dir = Path('/home/dimitrisps/Datasets/Scared_stereo/scared')\n",
    "target_data_dir = Path('/home/dimitrisps/new_data')\n",
    "target_data_dir.mkdir(parents=True, exist_ok=True)\n",
    "(target_data_dir/'left_depthmap').mkdir(parents=True, exist_ok=True)\n",
    "(target_data_dir/'original_calib').mkdir(parents=True, exist_ok=True)\n",
    "(target_data_dir/'left').mkdir(parents=True, exist_ok=True)\n",
    "(target_data_dir/'right').mkdir(parents=True, exist_ok=True)\n",
    "(target_data_dir/'point_cloud').mkdir(parents=True, exist_ok=True)\n",
    "(target_data_dir/'point_cloud_clean').mkdir(parents=True, exist_ok=True)"
   ]
  },
  {
   "cell_type": "code",
   "execution_count": 15,
   "metadata": {
    "tags": []
   },
   "outputs": [],
   "source": [
    "for scared_gt_path in current_data_dir.rglob('left_depth_map.tiff'):\n",
    "    ds = scared_gt_path.parents[1].name[-1]\n",
    "    kf = scared_gt_path.parents[0].name[-1]\n",
    "    src_sample_dir = scared_gt_path.parent\n",
    "\n",
    "    gt_dst = target_data_dir / 'left_depthmap'/ (ds+'_'+kf+scared_gt_path.suffix)\n",
    "    calib_dst = target_data_dir / 'original_calib'/ (ds+'_'+kf+'.yaml')\n",
    "    left_dst = target_data_dir / 'left'/ (ds+'_'+kf+'.png')\n",
    "    right_dst = target_data_dir / 'right'/ (ds+'_'+kf+'.png')\n",
    "    pc_dst = target_data_dir / 'point_cloud'/ (ds+'_'+kf+'.obj')\n",
    "    pc_cleaned_dst = target_data_dir / 'point_cloud_clean'/ (ds+'_'+kf+'.ply')\n",
    "\n",
    "    shutil.copy(str(scared_gt_path), str(gt_dst))\n",
    "    shutil.copy(str(src_sample_dir/'endoscope_calibration.yaml'), str(calib_dst))\n",
    "    shutil.copy(str(src_sample_dir/'Left_Image.png'), str(left_dst))\n",
    "    shutil.copy(str(src_sample_dir/'Right_Image.png'), str(right_dst))\n",
    "    try:\n",
    "        shutil.copy(str(src_sample_dir/'point_cloud.obj'), str(pc_dst))\n",
    "    except:\n",
    "        shutil.copy(str(src_sample_dir/'left_point_cloud.obj'), str(pc_dst))\n",
    "    shutil.copy(str(src_sample_dir/'point_cloud_clean.ply'), str(pc_cleaned_dst))\n",
    "\n"
   ]
  },
  {
   "cell_type": "code",
   "execution_count": null,
   "metadata": {},
   "outputs": [],
   "source": []
  }
 ]
}